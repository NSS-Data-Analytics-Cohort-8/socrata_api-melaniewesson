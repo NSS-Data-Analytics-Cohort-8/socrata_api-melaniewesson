{
 "cells": [
  {
   "cell_type": "code",
   "execution_count": 80,
   "metadata": {},
   "outputs": [],
   "source": [
    "import requests\n",
    "import pandas as pd\n",
    "import matplotlib.pyplot as plt"
   ]
  },
  {
   "cell_type": "code",
   "execution_count": 81,
   "metadata": {},
   "outputs": [],
   "source": [
    "endpoint = 'https://data.nashville.gov/resource/fuaa-r5cm.json'"
   ]
  },
  {
   "cell_type": "code",
   "execution_count": 82,
   "metadata": {},
   "outputs": [],
   "source": [
    "response = requests.get(endpoint)"
   ]
  },
  {
   "cell_type": "code",
   "execution_count": 83,
   "metadata": {},
   "outputs": [
    {
     "data": {
      "text/plain": [
       "<Response [200]>"
      ]
     },
     "execution_count": 83,
     "metadata": {},
     "output_type": "execute_result"
    }
   ],
   "source": [
    "response"
   ]
  },
  {
   "attachments": {},
   "cell_type": "markdown",
   "metadata": {},
   "source": [
    "1. Make an API request that returns the months where \"fire\" was searched in 2016. Which month had the most searches?"
   ]
  },
  {
   "cell_type": "code",
   "execution_count": 84,
   "metadata": {},
   "outputs": [],
   "source": [
    "params = {\n",
    "    \"Year\": \"2016\",\n",
    "    \"Query Text\": \"fire\"\n",
    "}"
   ]
  },
  {
   "cell_type": "code",
   "execution_count": 85,
   "metadata": {},
   "outputs": [],
   "source": [
    "response = requests.get(endpoint, params = params)"
   ]
  },
  {
   "cell_type": "code",
   "execution_count": 86,
   "metadata": {},
   "outputs": [
    {
     "data": {
      "text/plain": [
       "[{'month_name': 'January',\n",
       "  'year': '2016',\n",
       "  'query_count': '19',\n",
       "  'query_text': 'fire'},\n",
       " {'month_name': 'February',\n",
       "  'year': '2016',\n",
       "  'query_count': '35',\n",
       "  'query_text': 'fire'},\n",
       " {'month_name': 'March',\n",
       "  'year': '2016',\n",
       "  'query_count': '32',\n",
       "  'query_text': 'fire'},\n",
       " {'month_name': 'April',\n",
       "  'year': '2016',\n",
       "  'query_count': '26',\n",
       "  'query_text': 'fire'},\n",
       " {'month_name': 'May',\n",
       "  'year': '2016',\n",
       "  'query_count': '24',\n",
       "  'query_text': 'fire'},\n",
       " {'month_name': 'June',\n",
       "  'year': '2016',\n",
       "  'query_count': '31',\n",
       "  'query_text': 'fire'},\n",
       " {'month_name': 'July',\n",
       "  'year': '2016',\n",
       "  'query_count': '24',\n",
       "  'query_text': 'fire'},\n",
       " {'month_name': 'August',\n",
       "  'year': '2016',\n",
       "  'query_count': '47',\n",
       "  'query_text': 'fire'},\n",
       " {'month_name': 'September',\n",
       "  'year': '2016',\n",
       "  'query_count': '36',\n",
       "  'query_text': 'fire'},\n",
       " {'month_name': 'October',\n",
       "  'year': '2016',\n",
       "  'query_count': '38',\n",
       "  'query_text': 'fire'},\n",
       " {'month_name': 'November',\n",
       "  'year': '2016',\n",
       "  'query_count': '32',\n",
       "  'query_text': 'fire'},\n",
       " {'month_name': 'December',\n",
       "  'year': '2016',\n",
       "  'query_count': '38',\n",
       "  'query_text': 'fire'}]"
      ]
     },
     "execution_count": 86,
     "metadata": {},
     "output_type": "execute_result"
    }
   ],
   "source": [
    "res = response.json()\n",
    "res"
   ]
  },
  {
   "cell_type": "code",
   "execution_count": 87,
   "metadata": {},
   "outputs": [
    {
     "data": {
      "text/html": [
       "<div>\n",
       "<style scoped>\n",
       "    .dataframe tbody tr th:only-of-type {\n",
       "        vertical-align: middle;\n",
       "    }\n",
       "\n",
       "    .dataframe tbody tr th {\n",
       "        vertical-align: top;\n",
       "    }\n",
       "\n",
       "    .dataframe thead th {\n",
       "        text-align: right;\n",
       "    }\n",
       "</style>\n",
       "<table border=\"1\" class=\"dataframe\">\n",
       "  <thead>\n",
       "    <tr style=\"text-align: right;\">\n",
       "      <th></th>\n",
       "      <th>month_name</th>\n",
       "      <th>year</th>\n",
       "      <th>query_count</th>\n",
       "      <th>query_text</th>\n",
       "    </tr>\n",
       "  </thead>\n",
       "  <tbody>\n",
       "    <tr>\n",
       "      <th>0</th>\n",
       "      <td>January</td>\n",
       "      <td>2016</td>\n",
       "      <td>19</td>\n",
       "      <td>fire</td>\n",
       "    </tr>\n",
       "    <tr>\n",
       "      <th>1</th>\n",
       "      <td>February</td>\n",
       "      <td>2016</td>\n",
       "      <td>35</td>\n",
       "      <td>fire</td>\n",
       "    </tr>\n",
       "    <tr>\n",
       "      <th>2</th>\n",
       "      <td>March</td>\n",
       "      <td>2016</td>\n",
       "      <td>32</td>\n",
       "      <td>fire</td>\n",
       "    </tr>\n",
       "    <tr>\n",
       "      <th>3</th>\n",
       "      <td>April</td>\n",
       "      <td>2016</td>\n",
       "      <td>26</td>\n",
       "      <td>fire</td>\n",
       "    </tr>\n",
       "    <tr>\n",
       "      <th>4</th>\n",
       "      <td>May</td>\n",
       "      <td>2016</td>\n",
       "      <td>24</td>\n",
       "      <td>fire</td>\n",
       "    </tr>\n",
       "    <tr>\n",
       "      <th>5</th>\n",
       "      <td>June</td>\n",
       "      <td>2016</td>\n",
       "      <td>31</td>\n",
       "      <td>fire</td>\n",
       "    </tr>\n",
       "    <tr>\n",
       "      <th>6</th>\n",
       "      <td>July</td>\n",
       "      <td>2016</td>\n",
       "      <td>24</td>\n",
       "      <td>fire</td>\n",
       "    </tr>\n",
       "    <tr>\n",
       "      <th>7</th>\n",
       "      <td>August</td>\n",
       "      <td>2016</td>\n",
       "      <td>47</td>\n",
       "      <td>fire</td>\n",
       "    </tr>\n",
       "    <tr>\n",
       "      <th>8</th>\n",
       "      <td>September</td>\n",
       "      <td>2016</td>\n",
       "      <td>36</td>\n",
       "      <td>fire</td>\n",
       "    </tr>\n",
       "    <tr>\n",
       "      <th>9</th>\n",
       "      <td>October</td>\n",
       "      <td>2016</td>\n",
       "      <td>38</td>\n",
       "      <td>fire</td>\n",
       "    </tr>\n",
       "    <tr>\n",
       "      <th>10</th>\n",
       "      <td>November</td>\n",
       "      <td>2016</td>\n",
       "      <td>32</td>\n",
       "      <td>fire</td>\n",
       "    </tr>\n",
       "    <tr>\n",
       "      <th>11</th>\n",
       "      <td>December</td>\n",
       "      <td>2016</td>\n",
       "      <td>38</td>\n",
       "      <td>fire</td>\n",
       "    </tr>\n",
       "  </tbody>\n",
       "</table>\n",
       "</div>"
      ],
      "text/plain": [
       "   month_name  year query_count query_text\n",
       "0     January  2016          19       fire\n",
       "1    February  2016          35       fire\n",
       "2       March  2016          32       fire\n",
       "3       April  2016          26       fire\n",
       "4         May  2016          24       fire\n",
       "5        June  2016          31       fire\n",
       "6        July  2016          24       fire\n",
       "7      August  2016          47       fire\n",
       "8   September  2016          36       fire\n",
       "9     October  2016          38       fire\n",
       "10   November  2016          32       fire\n",
       "11   December  2016          38       fire"
      ]
     },
     "execution_count": 87,
     "metadata": {},
     "output_type": "execute_result"
    }
   ],
   "source": [
    "query_fire = pd.DataFrame(res)\n",
    "query_fire"
   ]
  },
  {
   "cell_type": "code",
   "execution_count": 88,
   "metadata": {},
   "outputs": [
    {
     "name": "stdout",
     "output_type": "stream",
     "text": [
      "  month_name  year query_count query_text\n",
      "7     August  2016          47       fire\n"
     ]
    }
   ],
   "source": [
    "print(query_fire[query_fire['query_count'] == query_fire['query_count'].max()])"
   ]
  },
  {
   "attachments": {},
   "cell_type": "markdown",
   "metadata": {},
   "source": [
    "2. Make an API request that returns all the times a query was run more than 100 times in a month. How many times did this occur? "
   ]
  },
  {
   "cell_type": "code",
   "execution_count": 89,
   "metadata": {},
   "outputs": [],
   "source": [
    "data = response.json()"
   ]
  },
  {
   "cell_type": "code",
   "execution_count": 106,
   "metadata": {},
   "outputs": [],
   "source": [
    "params2 = {\n",
    "    \"$where\": \"query_count > 100\",\n",
    "    \"$select\": \"query_text, query_count\",\n",
    "    \"$limit\": 50000\n",
    "}"
   ]
  },
  {
   "cell_type": "code",
   "execution_count": 107,
   "metadata": {},
   "outputs": [],
   "source": [
    "response = requests.get(endpoint, params=params2)"
   ]
  },
  {
   "cell_type": "code",
   "execution_count": 108,
   "metadata": {},
   "outputs": [
    {
     "data": {
      "text/plain": [
       "<Response [200]>"
      ]
     },
     "execution_count": 108,
     "metadata": {},
     "output_type": "execute_result"
    }
   ],
   "source": [
    "response"
   ]
  },
  {
   "cell_type": "code",
   "execution_count": 109,
   "metadata": {},
   "outputs": [],
   "source": [
    "data = response.json()"
   ]
  },
  {
   "cell_type": "code",
   "execution_count": 110,
   "metadata": {},
   "outputs": [],
   "source": [
    "count = len(data)"
   ]
  },
  {
   "cell_type": "code",
   "execution_count": 111,
   "metadata": {},
   "outputs": [
    {
     "data": {
      "text/plain": [
       "1262"
      ]
     },
     "execution_count": 111,
     "metadata": {},
     "output_type": "execute_result"
    }
   ],
   "source": [
    "count"
   ]
  },
  {
   "attachments": {},
   "cell_type": "markdown",
   "metadata": {},
   "source": [
    "3. Make another API request that returns all the times \"codes\" was searched more than 100 times in a month. How many times did this occur?"
   ]
  },
  {
   "cell_type": "code",
   "execution_count": 96,
   "metadata": {},
   "outputs": [],
   "source": [
    "params3 = {\n",
    "    \"$where\": \"query_text = 'codes' AND query_count > 100\",\n",
    "    \"$select\": \"query_text, query_count\"\n",
    "}"
   ]
  },
  {
   "cell_type": "code",
   "execution_count": 97,
   "metadata": {},
   "outputs": [],
   "source": [
    "response = requests.get(endpoint, params=params3)"
   ]
  },
  {
   "cell_type": "code",
   "execution_count": 98,
   "metadata": {},
   "outputs": [],
   "source": [
    "if response.status_code == 200:\n",
    "    data = response.json()\n",
    "    count = len(data)"
   ]
  },
  {
   "cell_type": "code",
   "execution_count": 99,
   "metadata": {},
   "outputs": [
    {
     "data": {
      "text/plain": [
       "56"
      ]
     },
     "execution_count": 99,
     "metadata": {},
     "output_type": "execute_result"
    }
   ],
   "source": [
    "count"
   ]
  },
  {
   "attachments": {},
   "cell_type": "markdown",
   "metadata": {},
   "source": [
    "4. Make an API request that returns the entire Top 500 Monthly Searches dataset. Make a chart that shows the number of times \"maps\" was searched in a month across the entire time frame."
   ]
  },
  {
   "cell_type": "code",
   "execution_count": 120,
   "metadata": {},
   "outputs": [],
   "source": [
    "params4 = {\n",
    "    \"$limit\" : 50000\n",
    "}"
   ]
  },
  {
   "cell_type": "code",
   "execution_count": 126,
   "metadata": {},
   "outputs": [],
   "source": [
    "response = requests.get(endpoint, params=params4)\n",
    "data = response.json()"
   ]
  },
  {
   "cell_type": "code",
   "execution_count": 127,
   "metadata": {},
   "outputs": [
    {
     "name": "stdout",
     "output_type": "stream",
     "text": [
      "dict_keys(['month_name', 'year', 'query_count', 'query_text'])\n"
     ]
    }
   ],
   "source": [
    "for record in data:\n",
    "    print(record.keys())\n",
    "    break"
   ]
  },
  {
   "cell_type": "code",
   "execution_count": 130,
   "metadata": {},
   "outputs": [],
   "source": [
    "#iterate over datset to check query text\n",
    "#count occurance of \"maps\" for each month \n",
    "#store counts in dictionary where the keys are the months and the values are the corresponding counts\n",
    "#ensure query_count key exists in each record to avoid errors\n",
    "\n",
    "search_counts = {}\n",
    "for record in data:\n",
    "    query_text = record[\"query_text\"]\n",
    "    month_name = record[\"month_name\"]\n",
    "    if \"query_count\" in record:\n",
    "        query_count = int(record[\"query_count\"])\n",
    "        if query_text.lower() == \"maps\":\n",
    "            if month_name in search_counts:\n",
    "                search_counts[month_name] += query_count\n",
    "            else:\n",
    "                search_counts[month_name] = query_count"
   ]
  },
  {
   "cell_type": "code",
   "execution_count": 140,
   "metadata": {},
   "outputs": [
    {
     "data": {
      "image/png": "[encoded data removed]",
      "text/plain": [
       "<Figure size 640x480 with 1 Axes>"
      ]
     },
     "metadata": {},
     "output_type": "display_data"
    }
   ],
   "source": [
    "#extract months and counts fromm search_counts dictionary\n",
    "#use matplotlib's bar function to create bar chart with x-axis = months, y-axis= search counts\n",
    "#customize with labels, title, formatting\n",
    "#display\n",
    "\n",
    "months = list(search_counts.keys())\n",
    "counts = list(search_counts.values())\n",
    "\n",
    "plt.bar(months, counts, color='cornflowerblue')\n",
    "plt.xlabel(\"Months\")\n",
    "plt.ylabel(\"Search Counts\")\n",
    "plt.title(\"'Map' Searches by Month\")\n",
    "plt.xticks(rotation=45)\n",
    "plt.show()"
   ]
  },
  {
   "cell_type": "code",
   "execution_count": null,
   "metadata": {},
   "outputs": [],
   "source": []
  }
 ],
 "metadata": {
  "kernelspec": {
   "display_name": "base",
   "language": "python",
   "name": "python3"
  },
  "language_info": {
   "codemirror_mode": {
    "name": "ipython",
    "version": 3
   },
   "file_extension": ".py",
   "mimetype": "text/x-python",
   "name": "python",
   "nbconvert_exporter": "python",
   "pygments_lexer": "ipython3",
   "version": "3.10.9"
  },
  "orig_nbformat": 4
 },
 "nbformat": 4,
 "nbformat_minor": 2
}
